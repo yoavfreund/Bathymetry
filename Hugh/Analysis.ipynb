{
 "cells": [
  {
   "cell_type": "code",
   "execution_count": 40,
   "id": "2a7b00fb",
   "metadata": {},
   "outputs": [
    {
     "name": "stdout",
     "output_type": "stream",
     "text": [
      "Analysis.ipynb\r\n"
     ]
    }
   ],
   "source": [
    "!ls | head"
   ]
  },
  {
   "cell_type": "code",
   "execution_count": 41,
   "id": "58b75eda",
   "metadata": {},
   "outputs": [
    {
     "name": "stdout",
     "output_type": "stream",
     "text": [
      "Populating the interactive namespace from numpy and matplotlib\n"
     ]
    }
   ],
   "source": [
    "from glob import glob\n",
    "import pickle as pkl\n",
    "%pylab inline\n",
    "\n",
    "from scipy.signal import savgol_filter\n"
   ]
  },
  {
   "cell_type": "code",
   "execution_count": 42,
   "id": "c492407d",
   "metadata": {},
   "outputs": [],
   "source": [
    "data_dir=\"../../Bathymetry_Data/\""
   ]
  },
  {
   "cell_type": "markdown",
   "id": "ad56158b",
   "metadata": {},
   "source": [
    "#### From Hugh's Email\n",
    "\n",
    "n x 11 array (n being the number of points in the segment) with the human label in the first column and the 10 classifier scores in the following columns."
   ]
  },
  {
   "cell_type": "code",
   "execution_count": 43,
   "id": "b75f4dc4",
   "metadata": {},
   "outputs": [
    {
     "data": {
      "text/plain": [
       "2179"
      ]
     },
     "execution_count": 43,
     "metadata": {},
     "output_type": "execute_result"
    }
   ],
   "source": [
    "files=glob(data_dir+'*.pkl')\n",
    "len(files)"
   ]
  },
  {
   "cell_type": "code",
   "execution_count": 44,
   "id": "74faa1b5",
   "metadata": {},
   "outputs": [],
   "source": [
    "def read_pkl(file):\n",
    "    with open(file,'rb') as pkl_file:\n",
    "        D=pkl.load(pkl_file)\n",
    "    human=D[1][:,0]\n",
    "    preds=D[1][:,1:]\n",
    "    return human,preds"
   ]
  },
  {
   "cell_type": "code",
   "execution_count": 45,
   "id": "abec3e54",
   "metadata": {},
   "outputs": [
    {
     "name": "stdout",
     "output_type": "stream",
     "text": [
      "../../Bathymetry_Data/test_NOAA_geodas_01030045.part0.tsv.pkl_scores.pklll\r"
     ]
    }
   ],
   "source": [
    "good=[]\n",
    "total=[]\n",
    "for file in files:\n",
    "    print(file,end='\\r')\n",
    "    human,preds=read_pkl(file)\n",
    "\n",
    "    good.append(sum(human))\n",
    "    total.append(human.shape[0])"
   ]
  },
  {
   "cell_type": "code",
   "execution_count": 46,
   "id": "d099f10c",
   "metadata": {},
   "outputs": [
    {
     "data": {
      "text/plain": [
       "array([0.94556   , 0.99997   , 0.99989   , 0.99459333, 0.99999123,\n",
       "       0.41875   , 0.9997675 , 0.95249042, 0.97658   , 0.97785108])"
      ]
     },
     "execution_count": 46,
     "metadata": {},
     "output_type": "execute_result"
    }
   ],
   "source": [
    "frac_good=np.array([good[i]/total[i] for i in range(len(total))])\n",
    "frac_good[:10]"
   ]
  },
  {
   "cell_type": "code",
   "execution_count": 47,
   "id": "58a6ffe6",
   "metadata": {},
   "outputs": [
    {
     "data": {
      "image/png": "[encoded data removed]",
      "text/plain": [
       "<Figure size 432x288 with 1 Axes>"
      ]
     },
     "metadata": {
      "needs_background": "light"
     },
     "output_type": "display_data"
    }
   ],
   "source": [
    "hist(frac_good,bins=100);"
   ]
  },
  {
   "cell_type": "code",
   "execution_count": 69,
   "id": "894d3a1e",
   "metadata": {},
   "outputs": [],
   "source": [
    "i=0"
   ]
  },
  {
   "cell_type": "code",
   "execution_count": 70,
   "id": "da6cd29b",
   "metadata": {},
   "outputs": [],
   "source": [
    "i+=1\n",
    "while frac_good[i] <0.9:\n",
    "    i+=1"
   ]
  },
  {
   "cell_type": "code",
   "execution_count": 71,
   "id": "d64e74c7",
   "metadata": {},
   "outputs": [],
   "source": [
    "#i=323"
   ]
  },
  {
   "cell_type": "code",
   "execution_count": 72,
   "id": "af6b44a6",
   "metadata": {
    "scrolled": true
   },
   "outputs": [
    {
     "name": "stdout",
     "output_type": "stream",
     "text": [
      "1 0.99997 ../../Bathymetry_Data/test_JAMSTEC_MR07-05.part3.tsv.pkl_scores.pkl 100000\n"
     ]
    },
    {
     "data": {
      "image/png": "[encoded data removed]",
      "text/plain": [
       "<Figure size 432x288 with 1 Axes>"
      ]
     },
     "metadata": {
      "needs_background": "light"
     },
     "output_type": "display_data"
    }
   ],
   "source": [
    "human,preds=read_pkl(files[i])\n",
    "print(i,frac_good[i],files[i],human.shape[0])\n",
    "\n",
    "hist(preds.flatten(),bins=100);"
   ]
  },
  {
   "cell_type": "code",
   "execution_count": 73,
   "id": "1e301662",
   "metadata": {},
   "outputs": [
    {
     "data": {
      "text/plain": [
       "1"
      ]
     },
     "execution_count": 73,
     "metadata": {},
     "output_type": "execute_result"
    }
   ],
   "source": [
    "i"
   ]
  },
  {
   "cell_type": "code",
   "execution_count": 74,
   "id": "a57165c6",
   "metadata": {},
   "outputs": [],
   "source": [
    "_mean=np.mean(preds,axis=1)\n",
    "smooth_mean=savgol_filter(_mean, 51, 3)\n",
    "_std=np.std(preds,axis=1)\n",
    "#i=22000; j=22500\n",
    "i=9500; j=10000"
   ]
  },
  {
   "cell_type": "code",
   "execution_count": 75,
   "id": "191504c4",
   "metadata": {
    "scrolled": true
   },
   "outputs": [],
   "source": [
    "def plot_scores(_mean,_std,human,i=0,j=-1):\n",
    "    plot(_mean[i:j])\n",
    "    plot(_std[i:j])\n",
    "    plot(human[i:j])"
   ]
  },
  {
   "cell_type": "code",
   "execution_count": 78,
   "id": "82201d8d",
   "metadata": {
    "scrolled": true
   },
   "outputs": [
    {
     "data": {
      "image/png": "[encoded data removed]",
      "text/plain": [
       "<Figure size 432x288 with 1 Axes>"
      ]
     },
     "metadata": {
      "needs_background": "light"
     },
     "output_type": "display_data"
    }
   ],
   "source": [
    "plot_scores(_mean,_std,human);"
   ]
  },
  {
   "cell_type": "code",
   "execution_count": 79,
   "id": "a4f0d6aa",
   "metadata": {},
   "outputs": [
    {
     "data": {
      "image/png": "[encoded data removed]",
      "text/plain": [
       "<Figure size 432x288 with 1 Axes>"
      ]
     },
     "metadata": {
      "needs_background": "light"
     },
     "output_type": "display_data"
    }
   ],
   "source": [
    "plot_scores(_mean,_std,human,60000,60500);"
   ]
  },
  {
   "cell_type": "markdown",
   "id": "c82cd1bc",
   "metadata": {},
   "source": [
    "Band Scanning bad at the end points?\n",
    "\n",
    "Potential for automatic cleaning?"
   ]
  },
  {
   "cell_type": "code",
   "execution_count": null,
   "id": "0ac01628",
   "metadata": {},
   "outputs": [],
   "source": []
  }
 ],
 "metadata": {
  "kernelspec": {
   "display_name": "Python 3 (ipykernel)",
   "language": "python",
   "name": "python3"
  },
  "language_info": {
   "codemirror_mode": {
    "name": "ipython",
    "version": 3
   },
   "file_extension": ".py",
   "mimetype": "text/x-python",
   "name": "python",
   "nbconvert_exporter": "python",
   "pygments_lexer": "ipython3",
   "version": "3.9.6"
  }
 },
 "nbformat": 4,
 "nbformat_minor": 5
}
